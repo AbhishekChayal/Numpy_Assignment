{
 "cells": [
  {
   "cell_type": "markdown",
   "metadata": {},
   "source": [
    "1. What is a Python library? Why do we use Python libraries?"
   ]
  },
  {
   "cell_type": "code",
   "execution_count": null,
   "metadata": {},
   "outputs": [],
   "source": [
    "A Python library is a collection of pre-written code that provides specific functionalities, making it easier to perform \n",
    "common tasks without having to write the code from scratch. These libraries are modular, meaning you can import and use \n",
    "only the parts you need in your project.\n",
    "\n",
    "Why Do We Use Python Libraries?\n",
    "Reusability: Libraries offer reusable code, saving time and effort. Instead of reinventing the wheel, you can leverage existing, \n",
    "well-tested code.\n",
    "\n",
    "Efficiency: Libraries are often optimized for performance. Using them can make your programs run faster and more efficiently.\n",
    "\n",
    "Complex Tasks Simplified: Many libraries offer high-level abstractions that simplify complex tasks. For instance, libraries like NumPy \n",
    "simplify mathematical operations on large datasets, while Pandas streamlines data manipulation.\n",
    "\n",
    "Community Support: Python libraries often have strong community support, including documentation, tutorials, and forums. This \n",
    "makes it easier to learn and troubleshoot issues.\n",
    "\n",
    "Rapid Development: Libraries enable faster development by providing ready-to-use tools for various tasks, such as web development \n",
    "(Flask, Django), data analysis (Pandas, Matplotlib), and machine learning (TensorFlow, Scikit-learn).\n",
    "\n",
    "Consistency: Libraries provide consistent interfaces and functions, which can make your code more readable and maintainable.\n"
   ]
  },
  {
   "cell_type": "markdown",
   "metadata": {},
   "source": [
    "2. What is the difference between Numpy array and List?\n"
   ]
  },
  {
   "cell_type": "code",
   "execution_count": null,
   "metadata": {},
   "outputs": [],
   "source": [
    "1. Data Type\n",
    "NumPy Array: Designed specifically for numerical computation. All elements in a NumPy array must be of the same data type \n",
    "(e.g., all integers, all floats).\n",
    "List: Can hold elements of different data types. You can have integers, floats, strings, and even other lists as elements \n",
    "within the same list.\n",
    "\n",
    "2. Performance\n",
    "NumPy Array: Much faster and more memory-efficient for numerical operations because they are implemented in C and optimized for performance. \n",
    "Operations on large datasets are significantly quicker.\n",
    "List: Slower for numerical operations as they are more general-purpose and don't have the same level of optimization as NumPy arrays.\n",
    "\n",
    "3. Functionality\n",
    "NumPy Array: Supports advanced mathematical and statistical operations like element-wise addition, multiplication, and matrix operations. \n",
    "You can also use slicing, indexing, and broadcasting with NumPy arrays.\n",
    "List: While you can perform some operations like addition or concatenation, lists don't natively support complex numerical operations or \n",
    "broadcasting. Lists are more suited for general data storage and manipulation.\n",
    "\n",
    "4. Memory Efficiency\n",
    "NumPy Array: More memory-efficient because they store data in a contiguous block of memory. This means less overhead compared to Python lists.\n",
    "List: Less memory-efficient, especially when dealing with large datasets, because each element in a list is a Python object with associated \n",
    "overhead.\n",
    "\n",
    "5. Dimensionality\n",
    "NumPy Array: Supports multi-dimensional arrays (e.g., 2D matrices, 3D tensors) with ease, making it a powerful tool for scientific computing.\n",
    "List: Typically used as a one-dimensional data structure, though you can create lists of lists to simulate multi-dimensional arrays. However, \n",
    "this is less efficient and more cumbersome than using NumPy arrays.\n",
    "\n",
    "6. Operations\n",
    "NumPy Array: Allows for vectorized operations, meaning you can perform operations on entire arrays at once without the need for explicit loops.\n",
    "List: Operations typically require loops to process each element individually unless you use list comprehensions or other Python-specific \n",
    "techniques."
   ]
  },
  {
   "cell_type": "markdown",
   "metadata": {},
   "source": [
    "3. Find the shape, size and dimension of the following array?\n",
    "\n",
    "[[1, 2, 3, 4]\n",
    "\n",
    "[5, 6, 7, 8],\n",
    "\n",
    "[9, 10, 11, 12]]"
   ]
  },
  {
   "cell_type": "code",
   "execution_count": 2,
   "metadata": {},
   "outputs": [
    {
     "data": {
      "text/plain": [
       "((3, 4), 12, 2)"
      ]
     },
     "execution_count": 2,
     "metadata": {},
     "output_type": "execute_result"
    }
   ],
   "source": [
    "import numpy as np\n",
    "\n",
    "# Define the array\n",
    "array = np.array([[1, 2, 3, 4],\n",
    "                  [5, 6, 7, 8],\n",
    "                  [9, 10, 11, 12]])\n",
    "\n",
    "# Find the shape, size, and dimension\n",
    "shape = array.shape\n",
    "size = array.size\n",
    "dimension = array.ndim\n",
    "\n",
    "shape, size, dimension\n"
   ]
  },
  {
   "cell_type": "markdown",
   "metadata": {},
   "source": [
    "4. Write python code to access the first row of the following array?\n",
    "\n",
    "[[1, 2, 3, 4]\n",
    "\n",
    "[5, 6, 7, 8],\n",
    "\n",
    "[9, 10, 11, 12]]"
   ]
  },
  {
   "cell_type": "code",
   "execution_count": 3,
   "metadata": {},
   "outputs": [
    {
     "data": {
      "text/plain": [
       "array([1, 2, 3, 4])"
      ]
     },
     "execution_count": 3,
     "metadata": {},
     "output_type": "execute_result"
    }
   ],
   "source": [
    "import numpy as np\n",
    "\n",
    "# Define the array\n",
    "array = np.array([[1, 2, 3, 4],\n",
    "                  [5, 6, 7, 8],\n",
    "                  [9, 10, 11, 12]])\n",
    "\n",
    "# Access the first row\n",
    "first_row = array[0]\n",
    "\n",
    "first_row\n"
   ]
  },
  {
   "cell_type": "markdown",
   "metadata": {},
   "source": [
    "5. How do you access the element at the third row and fourth column from the given numpy array?\n",
    "\n",
    "[[1, 2, 3, 4]\n",
    "\n",
    "[5, 6, 7, 8],\n",
    "\n",
    "[9, 10, 11, 12]]"
   ]
  },
  {
   "cell_type": "code",
   "execution_count": 4,
   "metadata": {},
   "outputs": [
    {
     "data": {
      "text/plain": [
       "12"
      ]
     },
     "execution_count": 4,
     "metadata": {},
     "output_type": "execute_result"
    }
   ],
   "source": [
    "import numpy as np\n",
    "\n",
    "# Define the array\n",
    "array = np.array([[1, 2, 3, 4],\n",
    "                  [5, 6, 7, 8],\n",
    "                  [9, 10, 11, 12]])\n",
    "\n",
    "# Access the element at the third row and fourth column\n",
    "element = array[2, 3]\n",
    "\n",
    "element\n"
   ]
  },
  {
   "cell_type": "markdown",
   "metadata": {},
   "source": [
    "6. Write code to extract all odd-indexed elements from the given numpy array?\n",
    "\n",
    "[[1, 2, 3, 4]\n",
    "\n",
    "[5, 6, 7, 8],\n",
    "\n",
    "[9, 10, 11, 12]]"
   ]
  },
  {
   "cell_type": "code",
   "execution_count": 5,
   "metadata": {},
   "outputs": [
    {
     "data": {
      "text/plain": [
       "array([ 2,  4,  6,  8, 10, 12])"
      ]
     },
     "execution_count": 5,
     "metadata": {},
     "output_type": "execute_result"
    }
   ],
   "source": [
    "import numpy as np\n",
    "\n",
    "# Define the array\n",
    "array = np.array([[1, 2, 3, 4],\n",
    "                  [5, 6, 7, 8],\n",
    "                  [9, 10, 11, 12]])\n",
    "\n",
    "# Flatten the array to 1D and extract odd-indexed elements\n",
    "odd_indexed_elements = array.flatten()[1::2]\n",
    "\n",
    "odd_indexed_elements\n"
   ]
  },
  {
   "cell_type": "markdown",
   "metadata": {},
   "source": [
    "7. How can you generate a random 3x3 matrix with values between 0 and 1?"
   ]
  },
  {
   "cell_type": "code",
   "execution_count": 6,
   "metadata": {},
   "outputs": [
    {
     "data": {
      "text/plain": [
       "array([[0.68316516, 0.27541353, 0.53900002],\n",
       "       [0.82557003, 0.72292386, 0.51121096],\n",
       "       [0.44913836, 0.22323125, 0.03511533]])"
      ]
     },
     "execution_count": 6,
     "metadata": {},
     "output_type": "execute_result"
    }
   ],
   "source": [
    "import numpy as np\n",
    "\n",
    "# Generate a random 3x3 matrix with values between 0 and 1\n",
    "random_matrix = np.random.rand(3, 3)\n",
    "\n",
    "random_matrix\n"
   ]
  },
  {
   "cell_type": "markdown",
   "metadata": {},
   "source": [
    "8. Describe the difference between np.random.rand and np.random.randn?"
   ]
  },
  {
   "cell_type": "code",
   "execution_count": null,
   "metadata": {},
   "outputs": [],
   "source": [
    "'''1. np.random.rand\n",
    "Purpose: Generates random numbers from a uniform distribution.\n",
    "\n",
    "Range: The numbers are uniformly distributed between 0 and 1 (exclusive of 1).\n",
    "\n",
    "Syntax: np.random.rand(d0, d1, ..., dn)\n",
    "Generates a random array of shape (d0, d1, ..., dn).\n",
    "\n",
    "2. np.random.randn\n",
    "Purpose: Generates random numbers from a standard normal distribution (also known as a Gaussian distribution).\n",
    "\n",
    "Range: The numbers are drawn from a distribution with a mean of 0 and a standard deviation of 1.\n",
    "\n",
    "Syntax: np.random.randn(d0, d1, ..., dn)\n",
    "Generates a random array of shape (d0, d1, ..., dn). '''"
   ]
  },
  {
   "cell_type": "markdown",
   "metadata": {},
   "source": [
    "9. Write code to increase the dimension of the following array?\n",
    "\n",
    "[[1, 2, 3, 4]\n",
    "\n",
    "[5, 6, 7, 8],\n",
    "\n",
    "[9, 10, 11, 12]]\n"
   ]
  },
  {
   "cell_type": "code",
   "execution_count": 7,
   "metadata": {},
   "outputs": [
    {
     "data": {
      "text/plain": [
       "array([[[ 1,  2,  3,  4],\n",
       "        [ 5,  6,  7,  8],\n",
       "        [ 9, 10, 11, 12]]])"
      ]
     },
     "execution_count": 7,
     "metadata": {},
     "output_type": "execute_result"
    }
   ],
   "source": [
    "import numpy as np\n",
    "\n",
    "# Define the array\n",
    "array = np.array([[1, 2, 3, 4],\n",
    "                  [5, 6, 7, 8],\n",
    "                  [9, 10, 11, 12]])\n",
    "\n",
    "# Increase the dimension of the array\n",
    "expanded_array = np.expand_dims(array, axis=0)\n",
    "\n",
    "expanded_array\n"
   ]
  },
  {
   "cell_type": "markdown",
   "metadata": {},
   "source": [
    "10. How to transpose the following array in NumPy?\n",
    "\n",
    "[[1, 2, 3, 4]\n",
    "\n",
    "[5, 6, 7, 8],\n",
    "\n",
    "[9, 10, 11, 12]]"
   ]
  },
  {
   "cell_type": "code",
   "execution_count": 8,
   "metadata": {},
   "outputs": [
    {
     "data": {
      "text/plain": [
       "array([[ 1,  5,  9],\n",
       "       [ 2,  6, 10],\n",
       "       [ 3,  7, 11],\n",
       "       [ 4,  8, 12]])"
      ]
     },
     "execution_count": 8,
     "metadata": {},
     "output_type": "execute_result"
    }
   ],
   "source": [
    "import numpy as np\n",
    "\n",
    "# Define the array\n",
    "array = np.array([[1, 2, 3, 4],\n",
    "                  [5, 6, 7, 8],\n",
    "                  [9, 10, 11, 12]])\n",
    "\n",
    "# Transpose the array using .T\n",
    "transposed_array = array.T\n",
    "\n",
    "# Alternatively, use np.transpose()\n",
    "# transposed_array = np.transpose(array)\n",
    "\n",
    "transposed_array\n"
   ]
  },
  {
   "cell_type": "markdown",
   "metadata": {},
   "source": [
    "11. Consider the following matrix:\n",
    "\n",
    "Matrix A: [[1, 2, 3, 4] [5, 6, 7, 8],[9, 10, 11, 12]]\n",
    "\n",
    "Matrix B: [[1, 2, 3, 4] [5, 6, 7, 8],[9, 10, 11, 12]]\n",
    "\n",
    "Perform the following operation using Python1\n",
    "(1) Index wise multiplicatio\n",
    "(2) Matrix multiplicatio\n",
    "(3) Add both the matric\n",
    "\n",
    "(4) Subtract matrix B from A \n",
    "(5) Divide Matrix B by A"
   ]
  },
  {
   "cell_type": "code",
   "execution_count": 10,
   "metadata": {},
   "outputs": [
    {
     "data": {
      "text/plain": [
       "(array([[  1,   4,   9,  16],\n",
       "        [ 25,  36,  49,  64],\n",
       "        [ 81, 100, 121, 144]]),\n",
       " array([[ 30,  70, 110],\n",
       "        [ 70, 174, 278],\n",
       "        [110, 278, 446]]),\n",
       " array([[ 2,  4,  6,  8],\n",
       "        [10, 12, 14, 16],\n",
       "        [18, 20, 22, 24]]),\n",
       " array([[0, 0, 0, 0],\n",
       "        [0, 0, 0, 0],\n",
       "        [0, 0, 0, 0]]),\n",
       " array([[1., 1., 1., 1.],\n",
       "        [1., 1., 1., 1.],\n",
       "        [1., 1., 1., 1.]]))"
      ]
     },
     "execution_count": 10,
     "metadata": {},
     "output_type": "execute_result"
    }
   ],
   "source": [
    "import numpy as np\n",
    "\n",
    "# Define the matrices\n",
    "matrix_a = np.array([[1, 2, 3, 4],\n",
    "                     [5, 6, 7, 8],\n",
    "                     [9, 10, 11, 12]])\n",
    "\n",
    "matrix_b = np.array([[1, 2, 3, 4],\n",
    "                     [5, 6, 7, 8],\n",
    "                     [9, 10, 11, 12]])\n",
    "\n",
    "# (1) Index wise multiplication\n",
    "index_wise_multiplication = matrix_a * matrix_b\n",
    "\n",
    "# (2) Matrix multiplication\n",
    "# For matrix multiplication, matrix B needs to be transposed\n",
    "matrix_multiplication = np.dot(matrix_a, matrix_b.T)\n",
    "\n",
    "# (3) Add both matrices\n",
    "matrix_addition = matrix_a + matrix_b\n",
    "\n",
    "# (4) Subtract matrix B from A\n",
    "matrix_subtraction = matrix_a - matrix_b\n",
    "\n",
    "# (5) Divide Matrix B by A\n",
    "# Ensure no division by zero; here, both matrices have no zero values\n",
    "matrix_division = matrix_b / matrix_a\n",
    "\n",
    "# Output results\n",
    "index_wise_multiplication, matrix_multiplication, matrix_addition, matrix_subtraction, matrix_division\n"
   ]
  },
  {
   "cell_type": "markdown",
   "metadata": {},
   "source": [
    "12. Which function in Numpy can be used to swap the byte order of an array?"
   ]
  },
  {
   "cell_type": "code",
   "execution_count": null,
   "metadata": {},
   "outputs": [],
   "source": [
    "'''In NumPy, you can use the byteswap() function to swap the byte order of an array. This function is used to reverse the \n",
    "byte order of the array elements, which can be useful when dealing with different endian formats.'''"
   ]
  },
  {
   "cell_type": "markdown",
   "metadata": {},
   "source": [
    "13. What is the significance of the np.linalg.inv function?"
   ]
  },
  {
   "cell_type": "code",
   "execution_count": null,
   "metadata": {},
   "outputs": [],
   "source": [
    "'''In Python, the numpy library provides a convenient function, np. linalg. inv(), for calculating the inverse of a matrix efficiently. \n",
    "Check out this numpy code example to explore how to inverse a matrix in Python using np.'''"
   ]
  },
  {
   "cell_type": "markdown",
   "metadata": {},
   "source": [
    "14. What does the np.reshape function do, and how is it used?"
   ]
  },
  {
   "cell_type": "code",
   "execution_count": null,
   "metadata": {},
   "outputs": [],
   "source": [
    "'''The np.reshape function in NumPy is used to change the shape of an existing array without changing its data. It allows you \n",
    "to specify a new shape for the array while keeping the total number of elements the same.\n",
    "\n",
    "Function Signature:\n",
    "numpy.reshape(a, newshape, order='C')\n",
    "\n",
    "Parameters:\n",
    "a: The input array you want to reshape.\n",
    "newshape: The desired shape of the output array. This can be specified as a tuple (e.g., (rows, columns)) or as a single integer \n",
    "(e.g., n), in which case the array will be reshaped to a 1D array with n elements.\n",
    "order (optional): Specifies the order in which elements are read from the array. 'C' is for row-major (C-style) order, \n",
    "and 'F' is for column-major (Fortran-style) order. The default is 'C'.\n",
    "'''\n",
    "\n"
   ]
  },
  {
   "cell_type": "markdown",
   "metadata": {},
   "source": [
    "15. What is broadcasting in Numpy?"
   ]
  },
  {
   "cell_type": "code",
   "execution_count": null,
   "metadata": {},
   "outputs": [],
   "source": [
    "'''Broadcasting in NumPy is a powerful concept that allows you to perform operations on arrays of different shapes and sizes in \n",
    "a way that is both efficient and intuitive. It essentially enables NumPy to perform element-wise operations on arrays that do \n",
    "not have the same shape by automatically expanding the smaller array to match the shape of the larger array.'''\n",
    "\n"
   ]
  },
  {
   "cell_type": "markdown",
   "metadata": {},
   "source": []
  }
 ],
 "metadata": {
  "kernelspec": {
   "display_name": "base",
   "language": "python",
   "name": "python3"
  },
  "language_info": {
   "codemirror_mode": {
    "name": "ipython",
    "version": 3
   },
   "file_extension": ".py",
   "mimetype": "text/x-python",
   "name": "python",
   "nbconvert_exporter": "python",
   "pygments_lexer": "ipython3",
   "version": "3.11.4"
  }
 },
 "nbformat": 4,
 "nbformat_minor": 2
}
